{
 "cells": [
  {
   "cell_type": "code",
   "execution_count": 1,
   "metadata": {},
   "outputs": [],
   "source": [
    "from tkinter import *\n",
    "import numpy as np\n",
    "import pandas as pd\n",
    "from tkinter import messagebox"
   ]
  },
  {
   "cell_type": "code",
   "execution_count": 2,
   "metadata": {},
   "outputs": [
    {
     "data": {
      "text/plain": [
       "''"
      ]
     },
     "execution_count": 2,
     "metadata": {},
     "output_type": "execute_result"
    }
   ],
   "source": [
    "window = Tk()\n",
    "window.geometry(\"450x300\")\n",
    "window.title(\"Pandas Machine!\")\n"
   ]
  },
  {
   "cell_type": "code",
   "execution_count": 3,
   "metadata": {},
   "outputs": [],
   "source": [
    "csv=[]\n",
    "\n",
    "def readcsv():\n",
    "    csvv=pd.read_csv(csvrd.get())\n",
    "    messagebox.showinfo(\"Done!\", \"Imported csv Succesfully!\")\n",
    "    global csv\n",
    "    csv=csvv\n",
    "    print(csv.head())\n",
    "    colnames.config(text=np.array(csv.columns))\n",
    "    csvhead.config(text=csv.head())\n",
    "    \n",
    "def meancalc():\n",
    "    global csv\n",
    "    csvv = csv\n",
    "    result=csvv[mean1.get()].mean()\n",
    "    print(result)\n",
    "    meanout.config(text=\"Mean of {} Column is {}, rounded: {}\".format(mean1.get(),result,result.round(2)))\n",
    "    \n",
    "def vardev():\n",
    "    global csv\n",
    "    csvv= csv\n",
    "    inpt=vardev1.get()\n",
    "    variance=csvv[inpt].var()\n",
    "    stdev=np.sqrt(variance)\n",
    "    print(variance,stdev)\n",
    "    vardevout.config(text=\"Variance of {} Column is {}, rounded: {} ,\\n Standard Deviation of {} Column is {}, rounded: {}\".format(inpt,variance,variance.round(2),inpt,stdev,stdev.round(2)))\n",
    "    \n",
    "    "
   ]
  },
  {
   "cell_type": "code",
   "execution_count": 4,
   "metadata": {},
   "outputs": [
    {
     "data": {
      "text/plain": [
       "'\\nbutton3= Button(window, Text=\"\", command=)\\nbutton4= Button(window, Text=\"\", command=)\\nbutton5= Button(window, Text=\"\", command=)'"
      ]
     },
     "execution_count": 4,
     "metadata": {},
     "output_type": "execute_result"
    }
   ],
   "source": [
    "csvrd= Entry(window)\n",
    "read1= Button(window, text=\"Import!\", command=readcsv)\n",
    "colnames= Label(window,bg=\"white\",text='Column Names')\n",
    "csvhead= Label(window,bg=\"white\",text='Data Preview')\n",
    "\n",
    "\n",
    "mean1= Entry(window)\n",
    "meanCalc= Button(window, text=\"Calculate Mean!\", command=meancalc)\n",
    "meanout= Label(window,bg='white', text='Result Of Mean')\n",
    "\n",
    "vardev1= Entry(window)\n",
    "vardevCalc=Button(window, text=\"Calculate Variance!\", command=vardev)\n",
    "vardevout=Label(window,bg='white', text='Result Of Variance')\n",
    "\n",
    "\n",
    "label1= Label(window, text=\"File Name.csv:\")\n",
    "label2= Label(window, text=\"Operations\")\n",
    "\n",
    "\n",
    "op1= Label(window, text=\"Mean for column:\")\n",
    "op2= Label(window,text=\"Variance of column:\")\n",
    "\n",
    "\n",
    "\"\"\"\n",
    "button3= Button(window, Text=\"\", command=)\n",
    "button4= Button(window, Text=\"\", command=)\n",
    "button5= Button(window, Text=\"\", command=)\"\"\""
   ]
  },
  {
   "cell_type": "code",
   "execution_count": 5,
   "metadata": {},
   "outputs": [],
   "source": [
    "csvrd.grid(row=0,column=1)\n",
    "read1.grid(row=0,column=2)\n",
    "colnames.grid(row=1,column=0,columnspan=4)\n",
    "csvhead.grid(row=2,column=0,columnspan=4)\n",
    "\n",
    "\n",
    "mean1.grid(row=4,column=1)\n",
    "op1.grid(row=4,column=0)\n",
    "meanCalc.grid(row=4,column=2)\n",
    "meanout.grid(row=6,column=0,columnspan=4)\n",
    "\n",
    "\n",
    "vardev1.grid(row=7,column=1)\n",
    "op2.grid(row=7,column=0)\n",
    "vardevCalc.grid(row=7,column=2)\n",
    "vardevout.grid(row=8,column=0,columnspan=4)\n",
    "\n",
    "\n",
    "label1.grid(row=0,column=0) #read csv\n",
    "label2.grid(row=3,column=0,columnspan=2) # Operations"
   ]
  },
  {
   "cell_type": "code",
   "execution_count": null,
   "metadata": {},
   "outputs": [],
   "source": [
    "window.mainloop()"
   ]
  }
 ],
 "metadata": {
  "kernelspec": {
   "display_name": "Python 3",
   "language": "python",
   "name": "python3"
  },
  "language_info": {
   "codemirror_mode": {
    "name": "ipython",
    "version": 3
   },
   "file_extension": ".py",
   "mimetype": "text/x-python",
   "name": "python",
   "nbconvert_exporter": "python",
   "pygments_lexer": "ipython3",
   "version": "3.9.0"
  }
 },
 "nbformat": 4,
 "nbformat_minor": 4
}
